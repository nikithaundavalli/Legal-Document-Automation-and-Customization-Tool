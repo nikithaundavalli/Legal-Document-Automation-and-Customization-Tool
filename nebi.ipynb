{
 "cells": [
  {
   "cell_type": "code",
   "execution_count": 14,
   "id": "cb14f7de",
   "metadata": {},
   "outputs": [],
   "source": [
    "import streamlit as st\n",
    "from PIL import Image\n",
    "import os\n",
    "import spacy\n",
    "from sklearn.metrics.pairwise import cosine_similarity\n",
    "import docx\n",
    "from docx.shared import Pt\n",
    "from docx import Document\n",
    "import tempfile\n",
    "import io"
   ]
  },
  {
   "cell_type": "code",
   "execution_count": 3,
   "id": "6c0657bb",
   "metadata": {},
   "outputs": [],
   "source": [
    "nlp = spacy.load(\"en_core_web_md\")"
   ]
  },
  {
   "cell_type": "code",
   "execution_count": 4,
   "id": "240d27c1",
   "metadata": {},
   "outputs": [],
   "source": [
    "def preprocess_text(text):\n",
    "    # Lowercasing\n",
    "    text = text.lower()\n",
    "    # Tokenization using spaCy\n",
    "    doc = nlp(text)\n",
    "    # Remove stop words and punctuation\n",
    "    tokens = [token.text for token in doc if not token.is_stop and not token.is_punct]\n",
    "    # Join tokens back into a single string\n",
    "    preprocessed_text = ' '.join(tokens)\n",
    "    return preprocessed_text"
   ]
  },
  {
   "cell_type": "code",
   "execution_count": 5,
   "id": "29ad4910",
   "metadata": {},
   "outputs": [],
   "source": [
    "def find_closest_match_nlp(user_input, dataset, threshold=0.2):\n",
    "    user_input_vector = nlp(user_input).vector\n",
    "    closest_key = None\n",
    "    max_similarity = -1\n",
    "\n",
    "    for key in dataset.keys():\n",
    "        key_vector = nlp(preprocess_text(key)).vector  # Preprocess key\n",
    "        similarity = cosine_similarity([user_input_vector], [key_vector])[0][0]\n",
    "        if similarity > max_similarity:\n",
    "            max_similarity = similarity\n",
    "            closest_key = key\n",
    "\n",
    "    if max_similarity < threshold:\n",
    "        closest_key = None\n",
    "\n",
    "    return closest_key"
   ]
  },
  {
   "cell_type": "code",
   "execution_count": 6,
   "id": "50d8ef2b",
   "metadata": {},
   "outputs": [],
   "source": [
    "def fill_template(template_text, user_input):\n",
    "    filled_text = template_text\n",
    "    for key, value in user_input.items():\n",
    "        filled_text = filled_text.replace(f\"{{{{ {key} }}}}\", value)\n",
    "    return filled_text"
   ]
  },
  {
   "cell_type": "code",
   "execution_count": 12,
   "id": "b0d67ab1",
   "metadata": {},
   "outputs": [],
   "source": [
    "def download_document(doc_content, filename='generated_document.docx'):\n",
    "    with tempfile.TemporaryDirectory() as tmpdir:\n",
    "        tmpfile = os.path.join(tmpdir, filename)\n",
    "        with open(tmpfile, 'wb') as f:\n",
    "            f.write(doc_content)\n",
    "        st.download_button(label=\"Download Document\", data=tmpfile, file_name=filename, mime='application/docx')"
   ]
  },
  {
   "cell_type": "code",
   "execution_count": 20,
   "id": "48c71088",
   "metadata": {},
   "outputs": [],
   "source": [
    "dataset = {\n",
    "    \"document required to buy a house\": {\"image\": \"purchase_template.jpg\", \"template\": \"purchase_template.docx\"},\n",
    "    \"how to create a will\": {\"image\": \"will_template.png\", \"template\": \"will_template.docx\"},\n",
    "    \"steps for filing a divorce\": {\"image\": \"Divorce-Paper-template.jpg\", \"template\": \"Divorce-Paper-template.docx\"}}"
   ]
  },
  {
   "cell_type": "code",
   "execution_count": 8,
   "id": "ec9f400d",
   "metadata": {},
   "outputs": [
    {
     "name": "stderr",
     "output_type": "stream",
     "text": [
      "2024-02-28 11:13:47.027 \n",
      "  \u001b[33m\u001b[1mWarning:\u001b[0m to view this Streamlit app on a browser, run it with the following\n",
      "  command:\n",
      "\n",
      "    streamlit run C:\\Users\\Mohanrao\\anaconda3\\envs\\python_sem4\\lib\\site-packages\\ipykernel_launcher.py [ARGUMENTS]\n"
     ]
    },
    {
     "data": {
      "text/plain": [
       "DeltaGenerator()"
      ]
     },
     "execution_count": 8,
     "metadata": {},
     "output_type": "execute_result"
    }
   ],
   "source": [
    "st.title(\"Document Recommendation and Generation System\")"
   ]
  },
  {
   "cell_type": "code",
   "execution_count": 21,
   "id": "ba24163e",
   "metadata": {},
   "outputs": [],
   "source": [
    "st.sidebar.title(\"Input\")\n",
    "st.write(\"Welcome to the automated tool! Please enter your query in the sidebar to search for similar documents.\")\n",
    "user_input = st.sidebar.text_input(\"Enter your query:\")"
   ]
  },
  {
   "cell_type": "code",
   "execution_count": 10,
   "id": "9844fe17",
   "metadata": {},
   "outputs": [],
   "source": [
    "preprocessed_input = preprocess_text(user_input)\n",
    "closest_match = find_closest_match_nlp(preprocessed_input, dataset)"
   ]
  },
  {
   "cell_type": "code",
   "execution_count": 22,
   "id": "4c5b263e",
   "metadata": {},
   "outputs": [],
   "source": [
    "if user_input:\n",
    "    if closest_match:\n",
    "        st.image(dataset[closest_match][\"image\"], caption=f\"Closest match: {closest_match}\")\n",
    "\n",
    "        # Load document template\n",
    "        template_path = dataset[closest_match][\"template\"]\n",
    "        with open(template_path, \"rb\") as file:\n",
    "            template_doc = Document(file)\n",
    "        template_text = \"\\n\".join([paragraph.text for paragraph in template_doc.paragraphs])\n",
    "\n",
    "        # Display document template and input fields\n",
    "        st.header(\"Document Template:\")\n",
    "        filled_template_text = st.text_area(\"Edit Document\", template_text, height=300)\n",
    "        user_input_fields = {}\n",
    "        for paragraph in template_doc.paragraphs:\n",
    "            if \"{{\" in paragraph.text and \"}}\" in paragraph.text:\n",
    "                blank = paragraph.text[paragraph.text.find(\"{{\") + 2: paragraph.text.find(\"}}\")]\n",
    "                user_input_fields[blank] = st.text_input(f\"Enter value for '{blank}':\", key=blank)\n",
    "\n",
    "        # Generate new document\n",
    "        if st.button(\"Generate Document\"):\n",
    "            filled_text = fill_template(filled_template_text, user_input_fields)\n",
    "            st.write(filled_text)\n",
    "\n",
    "    else:\n",
    "        st.warning(\"No similar document found.\")"
   ]
  },
  {
   "cell_type": "code",
   "execution_count": null,
   "id": "293a8aa6",
   "metadata": {},
   "outputs": [],
   "source": []
  }
 ],
 "metadata": {
  "kernelspec": {
   "display_name": "Python 3 (ipykernel)",
   "language": "python",
   "name": "python3"
  },
  "language_info": {
   "codemirror_mode": {
    "name": "ipython",
    "version": 3
   },
   "file_extension": ".py",
   "mimetype": "text/x-python",
   "name": "python",
   "nbconvert_exporter": "python",
   "pygments_lexer": "ipython3",
   "version": "3.8.18"
  }
 },
 "nbformat": 4,
 "nbformat_minor": 5
}
